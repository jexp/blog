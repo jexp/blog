{
 "cells": [
  {
   "cell_type": "code",
   "execution_count": 12,
   "metadata": {},
   "outputs": [
    {
     "name": "stdout",
     "output_type": "stream",
     "text": [
      "Requirement already satisfied: onnx in ./foo/lib/python3.6/site-packages\r\n",
      "Requirement already satisfied: neo4j-driver in ./foo/lib/python3.6/site-packages\r\n",
      "Requirement already satisfied: protobuf in ./foo/lib/python3.6/site-packages (from onnx)\r\n",
      "Requirement already satisfied: numpy in ./foo/lib/python3.6/site-packages (from onnx)\r\n",
      "Requirement already satisfied: six>=1.9 in ./foo/lib/python3.6/site-packages (from protobuf->onnx)\r\n",
      "Requirement already satisfied: setuptools in ./foo/lib/python3.6/site-packages (from protobuf->onnx)\r\n"
     ]
    }
   ],
   "source": [
    "!pip install onnx neo4j-driver"
   ]
  },
  {
   "cell_type": "code",
   "execution_count": null,
   "metadata": {
    "collapsed": true
   },
   "outputs": [],
   "source": [
    "from onnx.onnx_pb2 import *\n",
    "from onnx import checker, helper"
   ]
  },
  {
   "cell_type": "code",
   "execution_count": 2,
   "metadata": {},
   "outputs": [
    {
     "name": "stdout",
     "output_type": "stream",
     "text": [
      "node {\n",
      "  input: \"X\"\n",
      "  input: \"W1\"\n",
      "  input: \"B1\"\n",
      "  output: \"H1\"\n",
      "  op_type: \"FC\"\n",
      "}\n",
      "node {\n",
      "  input: \"H1\"\n",
      "  output: \"R1\"\n",
      "  op_type: \"Relu\"\n",
      "}\n",
      "node {\n",
      "  input: \"R1\"\n",
      "  input: \"W2\"\n",
      "  input: \"B2\"\n",
      "  output: \"Y\"\n",
      "  op_type: \"FC\"\n",
      "}\n",
      "name: \"MLP\"\n",
      "input: \"X\"\n",
      "input: \"W1\"\n",
      "input: \"B1\"\n",
      "input: \"W2\"\n",
      "input: \"B2\"\n",
      "output: \"Y\"\n",
      "ir_version: 1\n",
      "\n"
     ]
    }
   ],
   "source": [
    "# graph\n",
    "graph = helper.make_graph(\n",
    "    [\n",
    "        helper.make_node(\"FC\", [\"X\", \"W1\", \"B1\"], [\"H1\"]),\n",
    "        helper.make_node(\"Relu\", [\"H1\"], [\"R1\"]),\n",
    "        helper.make_node(\"FC\", [\"R1\", \"W2\", \"B2\"], [\"Y\"]),\n",
    "    ],\n",
    "    \"MLP\",\n",
    "    [\"X\", \"W1\", \"B1\", \"W2\", \"B2\"],\n",
    "    [\"Y\"]\n",
    ")\n",
    "\n",
    "print(str(graph))\n"
   ]
  },
  {
   "cell_type": "code",
   "execution_count": null,
   "metadata": {
    "collapsed": true
   },
   "outputs": [],
   "source": [
    "from neo4j.v1 import GraphDatabase, basic_auth\n",
    "\n",
    "driver = GraphDatabase.driver(\"bolt://localhost:7687\", auth=basic_auth(\"neo4j\", \"test\"))\n",
    "session = driver.session()"
   ]
  },
  {
   "cell_type": "code",
   "execution_count": 10,
   "metadata": {},
   "outputs": [
    {
     "name": "stdout",
     "output_type": "stream",
     "text": [
      "{'graph': {'name': 'MLP', 'attr': {'ir_version': 1}, 'inputs': ['X', 'W1', 'B1', 'W2', 'B2'], 'outputs': ['Y'], 'nodes': [{'attr': {'op_type': 'FC'}, 'inputs': ['X', 'W1', 'B1'], 'outputs': ['H1']}, {'attr': {'op_type': 'Relu'}, 'inputs': ['H1'], 'outputs': ['R1']}, {'attr': {'op_type': 'FC'}, 'inputs': ['R1', 'W2', 'B2'], 'outputs': ['Y']}]}}\n"
     ]
    }
   ],
   "source": [
    "statement = \"\"\"\t\n",
    "MERGE (g:Graph {name:$graph.name}) SET g += $graph.attr\n",
    "FOREACH (name in $graph.inputs | MERGE (i:Node {name:name})-[:INPUT]->(g) SET i:Input)\n",
    "FOREACH (name in $graph.outputs | MERGE (g)<-[:OUTPUT]-(o:Node {name:name}) SET o:Output)\n",
    "WITH *\n",
    "UNWIND $graph.nodes as node\n",
    "CREATE (n:Node) SET n += node.attr\n",
    "FOREACH (name in node.inputs | MERGE (i:Node {name:name}) SET i:Input MERGE (i)-[:IN]->(n))\n",
    "FOREACH (name in node.outputs | MERGE (o:Node {name:name}) SET o:Output MERGE (n)-[:OUT]->(o));\n",
    "\"\"\"\n",
    "\n",
    "params = {\"graph\":{\"name\":graph.name, \"attr\":{\"ir_version\":graph.ir_version}, \n",
    "                   \"inputs\":graph.input._values, \"outputs\":graph.output._values,\n",
    "                   \"nodes\": list(map(lambda n : {\"attr\":{\"op_type\":n.op_type},\n",
    "                         \"inputs\":n.input._values,\"outputs\":n.output._values}, graph.node))}}\n",
    "print(params)"
   ]
  },
  {
   "cell_type": "code",
   "execution_count": 11,
   "metadata": {},
   "outputs": [
    {
     "name": "stdout",
     "output_type": "stream",
     "text": [
      "<bound method StatementResult.summary of <neo4j.v1.result.BoltStatementResult object at 0x10850d8d0>>\n",
      "{}\n"
     ]
    }
   ],
   "source": [
    "summary = session.run(statement,params).summary\n",
    "print(summary)\n",
    "print(vars(summary))"
   ]
  },
  {
   "cell_type": "code",
   "execution_count": null,
   "metadata": {
    "collapsed": true
   },
   "outputs": [],
   "source": [
    "session.close()"
   ]
  }
 ],
 "metadata": {
  "kernelspec": {
   "display_name": "Python 3",
   "language": "python",
   "name": "python3"
  },
  "language_info": {
   "codemirror_mode": {
    "name": "ipython",
    "version": 3
   },
   "file_extension": ".py",
   "mimetype": "text/x-python",
   "name": "python",
   "nbconvert_exporter": "python",
   "pygments_lexer": "ipython3",
   "version": "3.6.0"
  }
 },
 "nbformat": 4,
 "nbformat_minor": 1
}
